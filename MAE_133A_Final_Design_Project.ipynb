{
  "nbformat": 4,
  "nbformat_minor": 0,
  "metadata": {
    "colab": {
      "provenance": [],
      "toc_visible": true,
      "include_colab_link": true
    },
    "kernelspec": {
      "name": "python3",
      "display_name": "Python 3"
    }
  },
  "cells": [
    {
      "cell_type": "markdown",
      "metadata": {
        "id": "view-in-github",
        "colab_type": "text"
      },
      "source": [
        "<a href=\"https://colab.research.google.com/github/duncandimauro/UCLA-MAE133A/blob/main/MAE_133A_Final_Design_Project.ipynb\" target=\"_parent\"><img src=\"https://colab.research.google.com/assets/colab-badge.svg\" alt=\"Open In Colab\"/></a>"
      ]
    },
    {
      "cell_type": "markdown",
      "metadata": {
        "id": "X6h3MzbpJ-VS"
      },
      "source": [
        "##MAE 133A S21 Design Project Group Identification\n",
        "Member names: Duncan Di Mauro + 3 Others (Anonymous)"
      ]
    },
    {
      "cell_type": "markdown",
      "metadata": {
        "id": "o9YgHcljKHnO"
      },
      "source": [
        "##Library Imports"
      ]
    },
    {
      "cell_type": "code",
      "metadata": {
        "id": "FvYqJwmCQAn9",
        "colab": {
          "base_uri": "https://localhost:8080/"
        },
        "outputId": "c8fe0d99-3cf6-4dca-9be3-8cbc202a2f7f"
      },
      "source": [
        "!pip install CoolProp # use pip to install Coolprop onto Google's virtual machine\n",
        "\n",
        "import CoolProp \n",
        "from CoolProp.CoolProp import PropsSI\n",
        "import numpy as np\n",
        "\n",
        "import scipy \n",
        "from scipy import constants "
      ],
      "execution_count": null,
      "outputs": [
        {
          "output_type": "stream",
          "text": [
            "Requirement already satisfied: CoolProp in /usr/local/lib/python3.7/dist-packages (6.4.1)\n"
          ],
          "name": "stdout"
        }
      ]
    },
    {
      "cell_type": "markdown",
      "metadata": {
        "id": "B5vSlKKzGuTd"
      },
      "source": [
        "##Project Description\n",
        "**Problem Statement**: The goal of this project is to develop a conceptual design of a natural gas decarbonization system that services a microgrid community. The objective is to supply an average of 1 MW-hr per day of clean hydrogen to the microgrid for a combination of residential heating and electrical power generation in a hydrogen fuel cell (note: these ‘downstream’ uses are not part of the design). \n",
        "\n",
        "Moreover, we seek to accomplish this decarbonization using direct solar-thermal pyrolysis to the greatest extent possible, and any non-solar energy used for decarbonization must come from the produced hydrogen (not from the natural gas), thus decreasing the hydrogen available for downstream use.\n",
        "\n",
        "We are also interested in making sure that we can provide ‘peak’ power above the average usage, such that the system should be able to provide a peak hydrogen energy delivery of 200 kW in any given 3-hour period (i.e., even at night) through a combination of (net) produced and stored hydrogen. \n",
        "\n",
        "Your task is to develop appropriately sized components including: (1) the solar-thermal concentrating heater for pyrolysis, (2) a hydrogen burner for auxiliary pyrolysis, and (3) a pressurized hydrogen tank for buffering and delivery of hydrogen to the microgrid. Your analysis must include two options in which at least two of the three components are sized differently. The second option should be designed to improve exergy efficiency. \n",
        "\n",
        "**Main Assumptions**:\n",
        "* We will use the lower heating value (LHV) of all fuels considered in this study. See: https://h2tools.org/hyarc/calculator-tools/lower-and-higher-heating-values-fuels. \n",
        "* We will assume that natural gas is pure methane. For a simple explainer of methane pyrolysis, see: https://www.advancedsciencenews.com/decarbonizing-natural-gas-methane-fuel-without-carbon-dioxide/. \n",
        "* For solar calculations, assume a microgrid location in Westwood (90095). \n",
        "* The functioning of the solar-thermal concentrating heater and hydrogen burner are abstracted into overall heating efficiencies (i.e., do not design the thermal subcomponents or any catalytic elements). \n",
        "\n",
        "**Potentially Useful Background Materials**:\n",
        "* A popular science article on natural gas decarbonization: https://www.scientificamerican.com/article/can-natural-gas-be-part-of-a-low-carbon-future/. \n",
        "* A paper on the exergy value of incident solar irradiation: https://aip.scitation.org/doi/10.1063/1.3081637. \n",
        "* A good compilation of various resources on incident solar energy by location: https://www.nrel.gov/gis/solar.html. \n",
        "\n",
        "**Project Format**:\n",
        "Projects must be submitted in the form of Jupyter or Collab notebooks. This is the template.  \n",
        "\n"
      ]
    },
    {
      "cell_type": "markdown",
      "metadata": {
        "id": "pFPe8EcXHJQx"
      },
      "source": [
        "##Questions"
      ]
    },
    {
      "cell_type": "markdown",
      "metadata": {
        "id": "RKrAR0A7IRDo"
      },
      "source": [
        "1. How does the ‘heating value’ of the output hydrogen compare to input methane in practical terms?"
      ]
    },
    {
      "cell_type": "markdown",
      "metadata": {
        "id": "lkYQIqarIWmx"
      },
      "source": [
        "Answer 1: The heating value of a certain fuel or mixture is used to measure how much heat or energy is released by that fuel during the combustion process. In this case, output hydrogen has a relatively large heating value compared to methane, meaning it can provide larger amounts of thermal energy. This makes the pyrolisis of pure methane more cost effective as compared to other fuels with smaller heating values. For reference, the lower heating value of hydrogen is 119,950 kJ/kg and the lower heating value of methane is 50,020 kJ/kg."
      ]
    },
    {
      "cell_type": "markdown",
      "metadata": {
        "id": "S5SGGOmzIj-r"
      },
      "source": [
        "2. How efficiently can a solar concentrator deliver thermal energy to the methane gas? Same question for the hydrogen burner. Provide a basis or source for your answers."
      ]
    },
    {
      "cell_type": "markdown",
      "metadata": {
        "id": "VHWlacy_I-dU"
      },
      "source": [
        "Answer 2: The efficiency of a solar concentrator delivering thermal energy to the methane gas largely depends on the type of reactor that is being used for methane pyrolysis. We must consider how efficient the solar concentrator is at absorbing solar energy, how efficient it delivers energy to the reactor, and how efficiently the reactor delivers energy to the methane gas. From our research, we can assume that the efficiency η, which represents the portion of incident solar power absorbed by the solar concentrator that was used for the reaction enthalpy, is about 15% [(6)](https://www.sciencedirect.com/science/article/pii/S036031990901101X). The efficiency of the solar concentrator itself (how well it absorbs the energy from solar irradiance) is around 18% [(7)](https://www.vivintsolar.com/learning-center/how-efficient-are-solar-panels). For the hydrogen burner, the calculations are much less complex, and we found an efficiency of around 30% [(4)](https://www.mdpi.com/1996-1073/13/20/5526/pdf)."
      ]
    },
    {
      "cell_type": "markdown",
      "metadata": {
        "id": "gfZmy_RpIph5"
      },
      "source": [
        "3. What is the difference between the maximum and minimum seasonal solar irradiances, and how does this difference affect the design? "
      ]
    },
    {
      "cell_type": "markdown",
      "metadata": {
        "id": "gk_Kd5RAJDmb"
      },
      "source": [
        "Answer 3: The difference between the maximum and minimum seasonal solar irradiances in Los Angeles (measured onto horizontal surfaces) is 7.83 kWh/$m^2$/day in June compared to 2.73 kWh/$m^2$/day in December (there is a difference of 5.1 kWh/$m^2$/day) [(8)](http://www.solarelectricityhandbook.com/solar-irradiance.html). In our design however, we chose to place our solar panel at an angle of 41 degrees facing directly south, which provides the optimal winter performance. In this case, the difference between maximum and minimum solar irradiances would be 6.25 kWh/$m^2$/day in April compared to 4.77 kWh/$m^2$/day in December (there is a difference of 1.31 kWh/$m^2$/day). Since the design requirements are the same year-round, we must size our components based upon the worst-case scenario. This is why we chose to angle our solar cell such that it has the most optimal winter performance. "
      ]
    },
    {
      "cell_type": "markdown",
      "metadata": {
        "id": "p-fFH6E0Iuxr"
      },
      "source": [
        "4. What are the sizes of the three components in each of the two design options? Show that each can provide the average energy and peak power required and include the mass flow rates of input methane and net output hydrogen. "
      ]
    },
    {
      "cell_type": "markdown",
      "metadata": {
        "id": "GKlkaKi3JB5m"
      },
      "source": [
        "Answer 4: \\\\\n",
        "Version 1: \n",
        ">Solar-thermal concentrating heater: $A = 1001 m^2$ \\\\\n",
        ">Hydrogen burner: $\\dot{Q} = 432.3 kW$ \\\\\n",
        ">Hydrogen tank: $V = 6224 m^3$ \\\\\n",
        ">Mass flow rate of input methane: $\\dot{m}_{CH_4} = 0.02652 kg/s$ \\\\\n",
        ">Mass flow rate of output hydrogen: $\\dot{m}_{H_2} = 0.001667 kg/s$ \\\\\n",
        "$\\dot{Q} = \\dot{m}_{H_2}*LHV_{H_2} = 0.001667 kg/s*119950 kJ/kg = 200 kW$ \\\\\n",
        "This mass flow rate is provided the whole day, so it satisfies the average energy required.\n",
        " \n",
        "Version 2: \n",
        ">Solar-thermal concentrating heater: $A = 1173 m^2$ \\\\\n",
        ">Hydrogen burner: $\\dot{Q} = 506.9 kW$ \\\\\n",
        ">Hydrogen tank: $V = 14.62 m^3 $ \\\\\n",
        ">Mass flow rate of input methane: $\\dot{m}_{CH_4} = 0.03111 kg/s $ \\\\\n",
        ">Mass flow rate of output hydrogen: $\\dot{m}_{H_2} = 0.001955 kg/s $\n",
        "$\\dot{Q} = \\dot{m}_{H_2}*LHV_{H_2} = 0.001955 kg/s*119950 kJ/kg = 234.5 kW$ \\\\\n",
        "This mass flow rate is provided the whole day, so it satisfies the average energy required. It should be noted that the overall energy flow rate is greater than 200 kW since it takes more energy to power the compressor (34.5 kW more). "
      ]
    },
    {
      "cell_type": "markdown",
      "metadata": {
        "id": "zNVw_Y5nIzAq"
      },
      "source": [
        "5. How does the second design option decrease exergy destruction? "
      ]
    },
    {
      "cell_type": "markdown",
      "metadata": {
        "id": "eYgSSbjGJE04"
      },
      "source": [
        "Answer 5: Our second design for the pyrolysis integrated a compressor in place of the heat exchanger found in the first design option. The compressor required energy to pressurize the hydrogen gas to be stored in the tank. In contrast, the heat exchanger allowed for the hydrogen gas to be cooled from its high exit temperature coming out of the solar heater and hydrogen burner. The first design had an exergy destruction of 13,050,622 kJ per day while the second design had an exergy destruction of 8,692,323 kJ per day."
      ]
    },
    {
      "cell_type": "markdown",
      "metadata": {
        "id": "MhUT4y_lI1zi"
      },
      "source": [
        "6. What are the technical and societal benefits, if any, of using solar heating in this design, as compared to burning methane or hydrogen for pyrolysis? "
      ]
    },
    {
      "cell_type": "markdown",
      "metadata": {
        "id": "oi-nlx6SJFkx"
      },
      "source": [
        "Answer 6: Solar heating has the benefit of being a renewable source of energy compared to the burning of natural gases. Since there is an ever-growing energy demand and a rapid depletion of nonrenewable energy sources, sustainable sources of energy are highly desirable. In addition, the burning of methane results in the harmful greenhouse gas carbon dioxide. While the burning of hydrogen produces only water vapor, there are some safety concerns associated with this method of energy generation, as hydrogen is highly flammable. In contrast, solar energy does not have any harmful products or and does not have as many safety concerns."
      ]
    },
    {
      "cell_type": "markdown",
      "metadata": {
        "id": "yTQzjeD8I4TE"
      },
      "source": [
        "7. More broadly, what are the technical and societal benefits and drawbacks of microgrids?"
      ]
    },
    {
      "cell_type": "markdown",
      "metadata": {
        "id": "p1kV8ny5JGK9"
      },
      "source": [
        "Answer 7: Microgrids boast many benefits including those of reliability, economic stability, quick installation, and lower energy costs for local consumers and businesses. Microgrids cover a much smaller area than traditional main grids of power plants. Therefore, energy does not need to traverse long distances. Also, if any blackouts occur on the main grid, microgrids can disconnect from the main grid and keep providing electricity. Moreover, they are more economically stable, as they do not rely on the fossil fuel market and use cleaner, renewable energy sources such as solar, wind, and fuel cells. Microgrids are installed faster, as they are much smaller than the traditional power plant grid, and can sell energy and ancillary services back to the main grid. \\\\\n",
        "Some drawbacks of microgrids include the resistance of utilities and lack of regulations. Microgrids must operate in tandem with local utilities as they are often hooked on to the main power grid to sell back excess energy. If this partnership cannot be developed or if the utilities company sees this as competition, they may be unwilling to allow the construction of such microgrids. Also, microgrids require batteries which will take up space and maintenance, interconnection standards need to be developed, and delays to re-synchronization with the main grid can be a problem."
      ]
    },
    {
      "cell_type": "markdown",
      "metadata": {
        "id": "5YRwmIUgeMUw"
      },
      "source": [
        "# Code and Calculations\n"
      ]
    },
    {
      "cell_type": "markdown",
      "metadata": {
        "id": "n8sK2ARZetDh"
      },
      "source": [
        "## **Given:**\n",
        "Minimum required power provided to microgrid = 200 kW per 3 hrs and 1 MW per day"
      ]
    },
    {
      "cell_type": "markdown",
      "metadata": {
        "id": "kD7ULIXAoWa8"
      },
      "source": [
        "## **Find:**\n",
        "* Sizing of Solar Thermal Concentrating \n",
        "Heater, Hydrogen Burner, and Hydrogen Tank and any other necessary components. \n",
        "* Two variations of the system design, one with improved exergy efficiency\n"
      ]
    },
    {
      "cell_type": "markdown",
      "metadata": {
        "id": "WoDhBbuBn8GU"
      },
      "source": [
        "## **Sketch:**\n"
      ]
    },
    {
      "cell_type": "markdown",
      "metadata": {
        "id": "sUZuRujOv4Yx"
      },
      "source": [
        "### Version 1\n",
        "![V1 Overall System Diagram.png](data:image/png;base64,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)"
      ]
    },
    {
      "cell_type": "markdown",
      "metadata": {
        "id": "MG35N8IUya4Q"
      },
      "source": [
        "### Version 2\n",
        "![V2 Overall System Diagram.png](data:image/png;base64,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)"
      ]
    },
    {
      "cell_type": "markdown",
      "metadata": {
        "id": "iRZnPMgSfSQk"
      },
      "source": [
        "## **Assumptions:**\n",
        "Based on our research and prior knowledge, we will be listing our assumptions to solve this problem, as well as sources.\n",
        "\n",
        "1. All processes are steady state, steady flow\n",
        "\n",
        "2. Effects of kinetic and potential energy are ignored\n",
        "\n",
        "3. Hydrogen, water vapor, oxygen, and methane are treated as ideal gases. \n",
        ">* Molar mass of hydrogen is 2.016 kg/kmol\n",
        ">* Molar mass of water vapor is 18.02 kg/kmol\n",
        ">* Molar mass of oxygen is 16.00 kg/kmol\n",
        ">* Molar mass of methane is 16.04 kg/kmol\n",
        ">* The ideal gas constant is 8.314 kJ/kmol*K\n",
        "\n",
        "4. Lower heating value (LHV) of hydrogen H$_{2}$ is 119950 kJ/kg\n",
        "\n",
        "5. The specific heat of the solid carbon waste is constant \n",
        ">* c$_{p,C}$ = 0.71 kJ/kg*K) \n",
        ">>* [Source 1](https://www.nuclear-power.net/carbon-specific-heat-latent-heat-vaporization-fusion/#:~:text=Specific%20heat%20of%20Carbon%20is%200.71%20J%2Fg%20K.)\n",
        ">* Molar mass of solid carbon is 12.01 kg/kmol\n",
        "\n",
        "6.   The reference temperature of all processes is 298K and the reference pressure of all process is 1 atm (101325 Pa)\n",
        "\n",
        "7. Based on research on hydrogen tanks, hydrogen as a gas is stored at 350-750 bar. Therefore we will use the average pressure of 525 bar as our tank pressure. Also the H$_{2}$ will be stored at room temperature (298 K)\n",
        "> *   [Source 2](https://www.energy.gov/eere/fuelcells/hydrogen-storage)\n",
        "\n",
        "8.   Based on research on oxygen tanks, oxygen is stored at 15200 kPa. The O$_{2}$ will be stored at room temperature (298 K)\n",
        "> *   [Source 3](https://www.esabna.com/euweb/oxy_handbook/589oxy3_18.htm)\n",
        "\n",
        "9.   Efficiency of hydrogen burner is 30%. \n",
        ">* [Source 4](https://www.mdpi.com/1996-1073/13/20/5526/pdf)\n",
        "\n",
        "10.   Water vapor exits hydrogen burner at hydrogen flame temperature, 2660$^\\circ$ C and at 1 atm\n",
        ">* [Source 5](https://www.thoughtco.com/flame-temperatures-table-607307)\n",
        "\n",
        "11. The portion of incident solar power absorbed by the solar concentrator that was used for the reaction enthalpy is about 15%\n",
        ">* [Source 6](https://www.sciencedirect.com/science/article/pii/S036031990901101X)\n",
        " \n",
        "12. The efficiency of the solar concentrator itself (how well it absorbs the energy from solar irradiance) is around 18% \n",
        ">*  [Source 7](https://www.vivintsolar.com/learning-center/how-efficient-are-solar-panels)\n",
        " \n",
        "13. Solar irradiation data can be found here:\n",
        ">*  [Source 8](http://www.solarelectricityhandbook.com/solar-irradiance.html)\n",
        "\n",
        "14. Heat transfer in the thin, non insulated tube between air and hydrogen has 100% efficiency and causes a negligible temperature difference in the environment.\n",
        "\n"
      ]
    },
    {
      "cell_type": "markdown",
      "metadata": {
        "id": "rdBxec4_or8h"
      },
      "source": [
        "## **Solution V1:**"
      ]
    },
    {
      "cell_type": "code",
      "metadata": {
        "colab": {
          "base_uri": "https://localhost:8080/"
        },
        "id": "jC2jdsZZor8i",
        "outputId": "b5f2a23f-5b16-4fd5-d2a8-636f8444d8a9"
      },
      "source": [
        "!pip install CoolProp # use pip to install Coolprop onto Google's virtual machine\n",
        "\n",
        "import CoolProp \n",
        "from CoolProp.CoolProp import PropsSI\n",
        "import numpy as np"
      ],
      "execution_count": null,
      "outputs": [
        {
          "output_type": "stream",
          "name": "stdout",
          "text": [
            "Looking in indexes: https://pypi.org/simple, https://us-python.pkg.dev/colab-wheels/public/simple/\n",
            "Collecting CoolProp\n",
            "  Downloading CoolProp-6.4.3.post1-cp38-cp38-manylinux_2_17_x86_64.manylinux2014_x86_64.whl (6.2 MB)\n",
            "\u001b[2K     \u001b[90m━━━━━━━━━━━━━━━━━━━━━━━━━━━━━━━━━━━━━━━━\u001b[0m \u001b[32m6.2/6.2 MB\u001b[0m \u001b[31m60.5 MB/s\u001b[0m eta \u001b[36m0:00:00\u001b[0m\n",
            "\u001b[?25hInstalling collected packages: CoolProp\n",
            "Successfully installed CoolProp-6.4.3.post1\n"
          ]
        }
      ]
    },
    {
      "cell_type": "code",
      "metadata": {
        "id": "v9xZNbJ2or8k"
      },
      "source": [
        "# Constants\n",
        "T_ref = 298 #K\n",
        "p_ref = 101325 #Pa (1 atm)\n",
        "\n",
        "W_dot_req = 200 #kW \n",
        "\n",
        "M_H2 = 2.016 #kg/kmol\n",
        "M_H2O = 18.02 #kg/kmol\n",
        "M_O2 = 16.00 #kg/kmol\n",
        "M_CH4 = 16.04 #kg/kmol\n",
        "M_C = 12.01 #kg/kmol\n",
        "\n",
        "LHV_H2 = 119950 #kJ/kg\n",
        "\n",
        "R_bar = 8314 # J/kmol*K\n",
        "\n",
        "hbar_form_H2 = 0 #kJ/kmol\n",
        "hbar_form_H2O = -241820 #kJ/kmol\n",
        "hbar_form_O2 = 0 #kJ/kmol\n",
        "hbar_form_CH4 = -74850 #kJ/kmol\n",
        "hbar_form_C = 0 #kJ/kmol\n",
        "\n",
        "cp_C = 0.71 #kJ/kg*K\n"
      ],
      "execution_count": null,
      "outputs": []
    },
    {
      "cell_type": "markdown",
      "metadata": {
        "id": "jjwWugl6or8m"
      },
      "source": [
        "### Pyrolysis"
      ]
    },
    {
      "cell_type": "markdown",
      "metadata": {
        "id": "fYUulOuhor8m"
      },
      "source": [
        "Methane Decomposition Balanced Equation: \\\\\n",
        "$CH_4 \\rightarrow C + 2H_2$\n",
        "\n",
        "Methane Decomposition Mass Balance: \\\\\n",
        "$\\dot{n}_{CH_4} = \\dot{n}_C = 2*\\dot{n}_{H_2}$\n",
        "\n",
        "Methane Decomposition Energy Balance: \\\\\n",
        "$0 = \\frac{\\dot{Q}_{pyrolysis}}{\\dot{n}_{CH_4}}+\\overline{h}_{CH_4}-\\overline{h}_C-2\\overline{h}_{H_2}$ \\\\\n",
        "$\\overline{h}(T,p)=\\overline{h}^\\circ_f+\\overline{h}(T,p)-\\overline{h}(T_{ref},p_{ref})$"
      ]
    },
    {
      "cell_type": "markdown",
      "metadata": {
        "id": "BYabDVZ6or8n"
      },
      "source": [
        "Energy required for the pyrolysis reaction"
      ]
    },
    {
      "cell_type": "code",
      "metadata": {
        "id": "shp26tauor8o"
      },
      "source": [
        "# Constants\n",
        "T_CH4 = 1500 #K\n",
        "p_CH4 = T_CH4/T_ref*p_ref #Pa\n",
        "T_reactor = T_CH4 #K\n",
        "p_reactor = p_CH4 #Pa\n",
        "T_H2_pyrolysis = T_reactor #K\n",
        "p_H2_pyrolysis = p_reactor #Pa\n",
        "dT_C = T_reactor-T_ref #K"
      ],
      "execution_count": null,
      "outputs": []
    },
    {
      "cell_type": "code",
      "metadata": {
        "colab": {
          "base_uri": "https://localhost:8080/"
        },
        "id": "Zy6Dfnkaor8p",
        "outputId": "3322f8ee-896e-4bbb-db04-5466020386dd"
      },
      "source": [
        "# Calculations\n",
        "hbar_CH4 = hbar_form_CH4 + PropsSI('Hmolar','T',T_CH4,'P',p_CH4,'methane') - PropsSI('Hmolar','T',T_ref,'P',p_ref,'methane') #kJ/kmol\n",
        "hbar_H2_pyrolysis = hbar_form_H2 + PropsSI('Hmolar','T',T_H2_pyrolysis,'P',p_H2_pyrolysis,'hydrogen') - PropsSI('Hmolar','T',T_ref,'P',p_ref,'hydrogen') #kJ/kmol\n",
        "h_C = cp_C*dT_C #kJ/kg\n",
        "hbar_C = h_C*M_C #kJ/kmol\n",
        "m_dot_H2_pyrolysis = (W_dot_req)/LHV_H2 #kg/s\n",
        "print(m_dot_H2_pyrolysis)\n",
        "n_dot_H2_pyrolysis = m_dot_H2_pyrolysis/M_H2 #kmol/s\n",
        "n_dot_H2 = n_dot_H2_pyrolysis\n",
        "hbar_H2 = hbar_H2_pyrolysis\n",
        "n_dot_CH4 = 2*n_dot_H2 #kmol/s\n",
        "m_dot_CH4 = n_dot_CH4*M_CH4 #kg/s\n",
        "n_dot_C = n_dot_CH4\n",
        "m_dot_C = n_dot_C*M_C\n",
        "print(m_dot_CH4)\n",
        "Q_dot_pyrolysis = n_dot_CH4*(hbar_C+2*hbar_H2-hbar_CH4) #kW\n",
        "print(Q_dot_pyrolysis)"
      ],
      "execution_count": null,
      "outputs": [
        {
          "output_type": "stream",
          "text": [
            "0.0016673614005835765\n",
            "0.02653221911246088\n",
            "129.69962247947623\n"
          ],
          "name": "stdout"
        }
      ]
    },
    {
      "cell_type": "markdown",
      "metadata": {
        "id": "xiOXt5e1or8r"
      },
      "source": [
        "### Hydrogen Burner"
      ]
    },
    {
      "cell_type": "markdown",
      "metadata": {
        "id": "XWQyEiCPor8t"
      },
      "source": [
        "Hydrogen Combustion Balanced Equation: \\\\\n",
        "$H_2 + \\frac{1}{2}O_2 \\rightarrow H_2O$\n",
        "\n",
        "Hydrogen Combustion Mass Balance: \\\\\n",
        "$\\dot{n}_{H_2} = \\frac{1}{2}\\dot{n}_{O_2} = \\dot{n}_{H_2O}$\n",
        "\n",
        "Hydrogen Combustion Energy Balance: \\\\\n",
        "$0 = \\frac{\\dot{Q}_{H_2}}{\\dot{n}_{H_2}}+\\overline{h}_{H_2}+\\frac{1}{2}\\overline{h}_{O_2}-\\overline{h}_{H_2O}$ \\\\\n",
        "$\\overline{h}(T,p)=\\overline{h}^\\circ_f+\\overline{h}(T,p)-\\overline{h}(T_{ref},p_{ref})$ \\\\\n",
        "$\\dot{Q}_{H_2}=\\frac{\\eta_{burner}}{\\dot{Q}_{pyrolysis}}$"
      ]
    },
    {
      "cell_type": "code",
      "metadata": {
        "id": "IgLF1935or8v"
      },
      "source": [
        "# Constants\n",
        "p_tank = 101325 #Pa\n",
        "T_H2_burner = 298 #K \n",
        "p_H2_burner = p_tank\n",
        "T_O2 = 298 #K\n",
        "p_O2 = 15200*10^3 #pa (15200 kpa)\n",
        "T_H2O = 2933 #K (2660 degrees celsius)\n",
        "p_H2O = 101325 #Pa (1 atm)\n",
        "eta_burner = 0.3 #burner efficiency is 30%"
      ],
      "execution_count": null,
      "outputs": []
    },
    {
      "cell_type": "code",
      "metadata": {
        "colab": {
          "base_uri": "https://localhost:8080/"
        },
        "id": "Fwk_AoIYor8w",
        "outputId": "c6cdb893-a48a-4766-fec1-56682634f0de"
      },
      "source": [
        "# Calculations\n",
        "# Q_dot_pyrolysis is from pyrolysis calculations\n",
        "hbar_H2_burner = hbar_form_H2 + PropsSI('Hmolar','T',T_H2_burner,'P',p_H2_burner,'hydrogen') - PropsSI('Hmolar','T',T_ref,'P',p_ref,'hydrogen') #kJ/kmol\n",
        "hbar_O2 = hbar_form_O2 + PropsSI('Hmolar','T',T_O2,'P',p_O2,'oxygen') - PropsSI('Hmolar','T',T_ref,'P',p_ref,'oxygen') #kJ/kmol\n",
        "hbar_H2O = hbar_form_H2O + PropsSI('Hmolar','T',T_H2O,'P',p_H2O,'water') - PropsSI('Hmolar','T',T_ref,'Q',1,'water') #kJ/kmol\n",
        "Q_dot_burner = Q_dot_pyrolysis/eta_burner\n",
        "print(Q_dot_burner)\n",
        "n_dot_H2_burner = -Q_dot_burner/((hbar_H2O-hbar_H2_burner-1/2*hbar_O2)) #kmol/s\n",
        "m_dot_H2_burner = n_dot_H2_burner * M_H2\n",
        "n_dot_H2O = n_dot_H2_burner\n",
        "m_dot_H2O = n_dot_H2O * M_H2O\n",
        "n_dot_O2 = 2*n_dot_H2_burner\n",
        "m_dot_O2 = n_dot_O2 * M_O2\n",
        "print(n_dot_H2_burner)"
      ],
      "execution_count": null,
      "outputs": [
        {
          "output_type": "stream",
          "text": [
            "432.33207493158744\n",
            "0.0036326243971953396\n"
          ],
          "name": "stdout"
        }
      ]
    },
    {
      "cell_type": "markdown",
      "metadata": {
        "id": "kg70vtitor8x"
      },
      "source": [
        "### Solar-Thermal Concentrating Heater"
      ]
    },
    {
      "cell_type": "markdown",
      "metadata": {
        "id": "bpK0h3ooor8x"
      },
      "source": [
        "Actual Heat Transfer Rate Between Cell and Methane: \\\\\n",
        "$ \\dot Q_{cell} = \\dot Q_{pyrolysis} / \\eta_{heater} $\n",
        "\n",
        "Sizing of Solar Cell: \\\\\n",
        "$ A = \\frac{\\dot Q_{cell}}{G*\\eta_{cell}} $"
      ]
    },
    {
      "cell_type": "code",
      "metadata": {
        "id": "kcGRwpJCor8y"
      },
      "source": [
        "# Constants\n",
        "eta_heater = 0.15 # efficiency between solar cell heat transfer rate to methane reaction in reactor\n",
        "eta_cell = 0.18 # efficiency of solar cell capturing solar energy\n",
        "G = 4.80 # irradiance/time kW*h/m^2/day facing south with a 41 degree angle"
      ],
      "execution_count": null,
      "outputs": []
    },
    {
      "cell_type": "code",
      "metadata": {
        "colab": {
          "base_uri": "https://localhost:8080/"
        },
        "id": "XG4etj9bor8y",
        "outputId": "f79cae02-029c-4c50-b088-e2d2d3c04c08"
      },
      "source": [
        "# Calculations\n",
        "# Q_dot_pyrolysis is from pyrolysis calculations\n",
        "Q_dot_cell =  Q_dot_pyrolysis / eta_heater # actual heat transfer rate needed to be recieved from sunlight\n",
        "A = Q_dot_cell / (G*eta_cell) #m^2 per hr each day\n",
        "print(A)"
      ],
      "execution_count": null,
      "outputs": [
        {
          "output_type": "stream",
          "text": [
            "1000.7686919712672\n"
          ],
          "name": "stdout"
        }
      ]
    },
    {
      "cell_type": "markdown",
      "metadata": {
        "id": "V3GfpOBSor8z"
      },
      "source": [
        "### Heat Exchanger"
      ]
    },
    {
      "cell_type": "markdown",
      "metadata": {
        "id": "qygtUmF1or8z"
      },
      "source": [
        "This heat exchanger passively cools down the hydrogen exiting from the pyrolysis process using a tube with thin, noninsulated walls to transfer heat to the surrounding environmental air. \n",
        "\n",
        "Energy Balance: \\\\\n",
        "$ \\dot Q_{cv}= \\dot n_{H_2} [\\overline{h}_{H_2}(T_{tank})-\\overline{h}_{H_2}(T_{reactor})] $ \\\\"
      ]
    },
    {
      "cell_type": "code",
      "metadata": {
        "colab": {
          "base_uri": "https://localhost:8080/"
        },
        "id": "VaEn-xb4or80",
        "outputId": "211a52fa-be31-4ac1-e5fe-764e00831d49"
      },
      "source": [
        "T_tank = 298 # K\n",
        "\n",
        "hbar_H2_reactor = PropsSI('Hmolar','T',T_reactor,'P',p_reactor,'hydrogen')\n",
        "hbar_H2_tank = PropsSI('Hmolar','T',T_tank,'P',p_tank,'hydrogen')\n",
        "Q_dot_exchanger = n_dot_H2_pyrolysis*(hbar_H2_tank - hbar_H2_reactor) # kW\n",
        "print(Q_dot_exchanger) # kW\n"
      ],
      "execution_count": null,
      "outputs": [
        {
          "output_type": "stream",
          "text": [
            "-30.031342708814496\n"
          ],
          "name": "stdout"
        }
      ]
    },
    {
      "cell_type": "markdown",
      "metadata": {
        "id": "mTSPz2hior80"
      },
      "source": [
        "### Hydrogen Tank Volume Calculations"
      ]
    },
    {
      "cell_type": "markdown",
      "metadata": {
        "id": "KnjE2cVEor80"
      },
      "source": [
        "Volume required for providing 200 kW every 3 hrs to **microgrid** \\\\\n",
        "\n",
        "Mole and Mass Conversion: \\\\\n",
        "$ n = m/M $\n",
        "\n",
        "Ideal Gas Equation: \\\\\n",
        "$ V = \\frac{ n\\overline{R}T}{p} $ \n",
        "\n",
        "Mass Flow of Hydrogen: \\\\\n",
        "$ \\dot m_{H_{2},grid} = \\frac{\\dot W_{req}}{LHV_{H_2}} $"
      ]
    },
    {
      "cell_type": "code",
      "metadata": {
        "id": "NTZ_8oh4or81"
      },
      "source": [
        "# Constants\n",
        "t_3hrs = 10800 # s, 3 hours in seconds\n",
        "W_dot_req_day = 1000 #kW (1 MW)"
      ],
      "execution_count": null,
      "outputs": []
    },
    {
      "cell_type": "code",
      "metadata": {
        "colab": {
          "base_uri": "https://localhost:8080/"
        },
        "id": "sWnqcVTUor81",
        "outputId": "3e478f78-64c8-4f17-92cf-dd8232510071"
      },
      "source": [
        "# Calculations\n",
        "W_req_day = 200*24*3600 # kJ (1 MW-hr needed for one day)\n",
        "m_H2_grid = W_req_day / LHV_H2 #kg\n",
        "n_H2_grid = m_H2_grid / M_H2 #kmol\n",
        "V_H2_grid = (n_H2_grid * R_bar *T_tank)/p_tank #m^3\n",
        "print(V_H2_grid)"
      ],
      "execution_count": null,
      "outputs": [
        {
          "output_type": "stream",
          "text": [
            "1747.28049908709\n"
          ],
          "name": "stdout"
        }
      ]
    },
    {
      "cell_type": "markdown",
      "metadata": {
        "id": "sF9YFegLor81"
      },
      "source": [
        "Volume required for providing hydrogen for the **hydrogen burner**"
      ]
    },
    {
      "cell_type": "code",
      "metadata": {
        "id": "4oB9-qaior82"
      },
      "source": [
        "# Constants\n",
        "t_14hrs = 50400 # s, 14 hours in seconds"
      ],
      "execution_count": null,
      "outputs": []
    },
    {
      "cell_type": "code",
      "metadata": {
        "colab": {
          "base_uri": "https://localhost:8080/"
        },
        "id": "t3YhvQtMor82",
        "outputId": "a10d409e-2a83-4cd1-8165-87505e686507"
      },
      "source": [
        "# Calculations\n",
        "# n_dot_burner is from hydrogen burner calculations!\n",
        "n_H2_burner = n_dot_H2_burner * t_14hrs #kmol\n",
        "V_H2_burner = (n_H2_burner * R_bar *T_tank)/p_tank #m^3\n",
        "print(V_H2_burner)"
      ],
      "execution_count": null,
      "outputs": [
        {
          "output_type": "stream",
          "text": [
            "4476.727955071363\n"
          ],
          "name": "stdout"
        }
      ]
    },
    {
      "cell_type": "code",
      "metadata": {
        "id": "-U-LJm_1or83"
      },
      "source": [
        "# Constants\n",
        "t_24hrs = 86400 #s"
      ],
      "execution_count": null,
      "outputs": []
    },
    {
      "cell_type": "markdown",
      "metadata": {
        "id": "_tgLw_Ubor83"
      },
      "source": [
        "**Total** Volume of Tank\n",
        "\n",
        "Total Volume: \\\\\n",
        "$ V_{H_2} = V_{H_2,grid} + V_{H_2,burner} "
      ]
    },
    {
      "cell_type": "code",
      "metadata": {
        "colab": {
          "base_uri": "https://localhost:8080/"
        },
        "id": "rNyJNTiRor83",
        "outputId": "af8f3ede-7c4a-4d66-b067-e1ef5565d007"
      },
      "source": [
        "# Calculations\n",
        "V_H2 = V_H2_grid +V_H2_burner\n",
        "print(V_H2) # m^3"
      ],
      "execution_count": null,
      "outputs": [
        {
          "output_type": "stream",
          "text": [
            "6224.008454158453\n"
          ],
          "name": "stdout"
        }
      ]
    },
    {
      "cell_type": "markdown",
      "metadata": {
        "id": "ZrCT6DZCor84"
      },
      "source": [
        "### Exergy Destruction\n"
      ]
    },
    {
      "cell_type": "markdown",
      "metadata": {
        "id": "1hDEQc1Mor84"
      },
      "source": [
        "Total Exergy: \\\\\n",
        "$ \\dot E_d = \\dot E_{d1} + \\dot E_{d2} $   \n",
        "\n",
        "$ \\dot E_{d1}= T_0(\\sigma_{CV,pyrolysis}+\\sigma_{CV,burner}+\\sigma_{CV,exchanger}) $\n",
        "\n",
        "Control Volume Entropy Production Balance of Pyrolysis: \\\\\n",
        "$ \\dot \\sigma_{CV,pyrolysis} = - \\frac{Q_{pyrolysis}}{T_{pyrolysis}}- \\dot m_{CH4}s_{CH4} + \\dot m_C s_C + \\dot m_{H_2}s_{H_2} $\n",
        "\n",
        "Control Volume Entropy Production Balance of Hydrogen Burner: \\\\\n",
        "$ \\dot \\sigma_{CV,burner} = - \\frac{Q_{burner}}{T_{burner}}- \\dot m_{H_2}s_{H_2} - \\dot m_{O_2} s_{O_2} + \\dot m_{H_2O}s_{H_2O} $\n",
        "\n",
        "Control Volume Entropy Production Balance of exchanger: \\\\\n",
        "$ \\dot \\sigma_{CV,exchanger} = - \\dot m_{H_2,reactor} (s_{H_2,reactor} - s_{H_2,tank}) $\n",
        "\n",
        "Control Volume Entropy Production Balance of Tank: \\\\\n",
        "$ \\dot E_{d2} = \\dot W_{req} $"
      ]
    },
    {
      "cell_type": "code",
      "metadata": {
        "id": "FmVF9RFZor84"
      },
      "source": [
        "# Constants\n",
        "T_0 = 298 # K\n",
        "t_10hrs = 3600 #s\n",
        "t_24hrs = 86400 #s\n",
        "p_ref = p_H2O"
      ],
      "execution_count": null,
      "outputs": []
    },
    {
      "cell_type": "code",
      "metadata": {
        "colab": {
          "base_uri": "https://localhost:8080/"
        },
        "id": "5BTfQRl0or84",
        "outputId": "52ca095d-64ea-4fe2-fc86-81f52936f2db"
      },
      "source": [
        "# Calculations\n",
        "\n",
        "## Solar Cell\n",
        "E_dot_cell = -Q_dot_cell #kW\n",
        "E_cell = E_dot_cell * t_10hrs #kJ\n",
        "\n",
        "## Pyrolysis\n",
        "s_CH4 = PropsSI('S','T',T_CH4,'P',p_CH4,'methane') * 10**(-3)\n",
        "s_C = cp_C * np.log(T_H2_pyrolysis/T_0) - (R_bar*10**(-3)/M_C) * np.log(p_H2_pyrolysis/p_ref)\n",
        "s_H2_pyrolysis = PropsSI('S','T',T_H2_pyrolysis,'P',p_reactor,'hydrogen') * 10**(-3)\n",
        "sigma_dot_pyrolysis = -(Q_dot_pyrolysis / T_CH4) - m_dot_CH4 * s_CH4 + m_dot_C *s_C + m_dot_H2_pyrolysis *s_H2_pyrolysis\n",
        "E_dot_pyrolysis = sigma_dot_pyrolysis * T_0\n",
        "E_pyrolysis = E_dot_pyrolysis * t_10hrs\n",
        "\n",
        "## Burner\n",
        "s_H2_burner = PropsSI('S','T',T_H2O,'P',p_H2_burner,'hydrogen') * 10**(-3)\n",
        "s_O2 = PropsSI('S','T',T_H2O,'P',p_H2_burner,'oxygen') * 10**(-3)\n",
        "s_H2O = PropsSI('S','T',T_H2O,'P',p_H2_burner,'water') * 10**(-3)\n",
        "sigma_dot_burner = (Q_dot_pyrolysis / T_H2O) - m_dot_H2_burner*s_H2_burner - m_dot_O2 * s_O2 + m_dot_H2O*s_H2O\n",
        "E_dot_burner = sigma_dot_burner * T_0\n",
        "E_burner = E_dot_burner * t_3hrs\n",
        "\n",
        "## exchanger\n",
        "s_H2_tank = PropsSI('S','T',T_tank,'P',p_tank,'hydrogen') * 10**(-3)\n",
        "sigma_dot_exchanger = -(Q_dot_exchanger / T_tank) - m_dot_H2_pyrolysis * (s_H2_pyrolysis - s_H2_tank)\n",
        "E_dot_exchanger = sigma_dot_exchanger *T_0\n",
        "E_exchanger = E_dot_exchanger * t_24hrs\n",
        "\n",
        "## Tank\n",
        "E_dot_tank = W_dot_req \n",
        "E_tank = E_dot_tank * t_24hrs\n",
        "\n",
        "## Total Exergy Destruction \n",
        "E_d = E_cell + E_pyrolysis + E_burner + E_exchanger + E_tank #kJ per day\n",
        "print(E_d)\n"
      ],
      "execution_count": null,
      "outputs": [
        {
          "output_type": "stream",
          "text": [
            "13050622.862892658\n"
          ],
          "name": "stdout"
        }
      ]
    },
    {
      "cell_type": "markdown",
      "metadata": {
        "id": "pj7KPW_jpIQA"
      },
      "source": [
        "## **Solution V2:**"
      ]
    },
    {
      "cell_type": "code",
      "metadata": {
        "colab": {
          "base_uri": "https://localhost:8080/"
        },
        "id": "7Jeo976NwcoE",
        "outputId": "f2255624-805c-4d8f-c53a-3312ed55a874"
      },
      "source": [
        "!pip install CoolProp # use pip to install Coolprop onto Google's virtual machine\n",
        "\n",
        "import CoolProp \n",
        "from CoolProp.CoolProp import PropsSI\n",
        "import numpy as np"
      ],
      "execution_count": null,
      "outputs": [
        {
          "output_type": "stream",
          "text": [
            "Requirement already satisfied: CoolProp in /usr/local/lib/python3.7/dist-packages (6.4.1)\n"
          ],
          "name": "stdout"
        }
      ]
    },
    {
      "cell_type": "code",
      "metadata": {
        "id": "AbUfdBgI-0h1"
      },
      "source": [
        "# Constants\n",
        "T_ref_v2 = 298 #K\n",
        "p_ref_v2 = 101325 #Pa (1 atm)\n",
        "\n",
        "W_dot_req_v2 = 200 #kW \n",
        "\n",
        "M_H2 = 2.016 #kg/kmol\n",
        "M_H2O = 18.02 #kg/kmol\n",
        "M_O2 = 16.00 #kg/kmol\n",
        "M_CH4 = 16.04 #kg/kmol\n",
        "M_C = 12.01 #kg/kmol\n",
        "\n",
        "LHV_H2 = 119950 #kJ/kg\n",
        "\n",
        "R_bar = 8314 # J/kmol*K\n",
        "\n",
        "hbar_form_H2 = 0 #kJ/kmol\n",
        "hbar_form_H2O = -241820 #kJ/kmol\n",
        "hbar_form_O2 = 0 #kJ/kmol\n",
        "hbar_form_CH4 = -74850 #kJ/kmol\n",
        "hbar_form_C = 0 #kJ/kmol\n",
        "\n",
        "cp_C = 0.71 #kJ/kg*K\n",
        "\n",
        "p_tank_v2 = 525*10**5 #Pa\n",
        "T_tank = 298 # K"
      ],
      "execution_count": null,
      "outputs": []
    },
    {
      "cell_type": "markdown",
      "metadata": {
        "id": "yejHwerm051-"
      },
      "source": [
        "### Pyrolysis"
      ]
    },
    {
      "cell_type": "markdown",
      "metadata": {
        "id": "3N_zVgvizSAo"
      },
      "source": [
        "Methane Decomposition Balanced Equation: \\\\\n",
        "$CH_4 \\rightarrow C + 2H_2$\n",
        "\n",
        "Methane Decomposition Mass Balance: \\\\\n",
        "$\\dot{n}_{CH_4} = \\dot{n}_C = 2*\\dot{n}_{H_2}$\n",
        "\n",
        "Methane Decomposition Energy Balance: \\\\\n",
        "$0 = \\frac{\\dot{Q}_{pyrolysis}}{\\dot{n}_{CH_4}}+\\overline{h}_{CH_4}-\\overline{h}_C-2\\overline{h}_{H_2}$ \\\\\n",
        "$\\overline{h}(T,p)=\\overline{h}^\\circ_f+\\overline{h}(T,p)-\\overline{h}(T_{ref},p_{ref})$"
      ]
    },
    {
      "cell_type": "markdown",
      "metadata": {
        "id": "ATLjqcgQmvlx"
      },
      "source": [
        "Energy required for the pyrolysis reaction"
      ]
    },
    {
      "cell_type": "code",
      "metadata": {
        "id": "gco3bn55m7pz"
      },
      "source": [
        "# Constants\n",
        "T_CH4 = 1500 #K\n",
        "p_CH4 = T_CH4/T_ref_v2*p_ref_v2 #Pa\n",
        "T_reactor = T_CH4 #K\n",
        "p_reactor = p_CH4 #Pa\n",
        "T_H2_pyrolysis = T_reactor #K\n",
        "p_H2_pyrolysis = p_reactor #Pa\n",
        "dT_C = T_reactor-T_ref_v2 #K"
      ],
      "execution_count": null,
      "outputs": []
    },
    {
      "cell_type": "code",
      "metadata": {
        "colab": {
          "base_uri": "https://localhost:8080/"
        },
        "id": "vGBKnff-tp36",
        "outputId": "34eddfcd-166a-4668-e8cb-d57ee17277a9"
      },
      "source": [
        "# Calculations\n",
        "hbar_CH4 = hbar_form_CH4 + PropsSI('Hmolar','T',T_CH4,'P',p_CH4,'methane') - PropsSI('Hmolar','T',T_ref_v2,'P',p_ref_v2,'methane') #kJ/kmol\n",
        "hbar_H2_pyrolysis = hbar_form_H2 + PropsSI('Hmolar','T',T_H2_pyrolysis,'P',p_H2_pyrolysis,'hydrogen') - PropsSI('Hmolar','T',T_ref_v2,'P',p_ref_v2,'hydrogen') #kJ/kmol\n",
        "h_C = cp_C*dT_C #kJ/kg\n",
        "hbar_C = h_C*M_C #kJ/kmol\n",
        "m_dot_H2_pyrolysis = (W_dot_req_v2+34.5)/LHV_H2 #kg/s\n",
        "print(m_dot_H2_pyrolysis)\n",
        "n_dot_H2_pyrolysis = m_dot_H2_pyrolysis/M_H2 #kmol/s\n",
        "n_dot_H2 = n_dot_H2_pyrolysis\n",
        "hbar_H2 = hbar_H2_pyrolysis\n",
        "n_dot_CH4 = 2*n_dot_H2 #kmol/s\n",
        "m_dot_CH4 = n_dot_CH4*M_CH4 #kg/s\n",
        "n_dot_C = n_dot_CH4\n",
        "m_dot_C = n_dot_C*M_C\n",
        "print(m_dot_CH4)\n",
        "Q_dot_pyrolysis = n_dot_CH4*(hbar_C+2*hbar_H2-hbar_CH4) #kW\n",
        "print(Q_dot_pyrolysis)"
      ],
      "execution_count": null,
      "outputs": [
        {
          "output_type": "stream",
          "text": [
            "0.0019549812421842433\n",
            "0.031109026909360377\n",
            "152.07280735718587\n"
          ],
          "name": "stdout"
        }
      ]
    },
    {
      "cell_type": "markdown",
      "metadata": {
        "id": "rdvOxRJB4Mzd"
      },
      "source": [
        "### Hydrogen Burner"
      ]
    },
    {
      "cell_type": "markdown",
      "metadata": {
        "id": "WWPbxeAh5qq7"
      },
      "source": [
        "Hydrogen Combustion Balanced Equation: \\\\\n",
        "$H_2 + \\frac{1}{2}O_2 \\rightarrow H_2O$\n",
        "\n",
        "Hydrogen Combustion Mass Balance: \\\\\n",
        "$\\dot{n}_{H_2} = \\frac{1}{2}\\dot{n}_{O_2} = \\dot{n}_{H_2O}$\n",
        "\n",
        "Hydrogen Combustion Energy Balance: \\\\\n",
        "$0 = \\frac{\\dot{Q}_{H_2}}{\\dot{n}_{H_2}}+\\overline{h}_{H_2}+\\frac{1}{2}\\overline{h}_{O_2}-\\overline{h}_{H_2O}$ \\\\\n",
        "$\\overline{h}(T,p)=\\overline{h}^\\circ_f+\\overline{h}(T,p)-\\overline{h}(T_{ref},p_{ref})$ \\\\\n",
        "$\\dot{Q}_{H_2}=\\frac{\\eta_{burner}}{\\dot{Q}_{pyrolysis}}$"
      ]
    },
    {
      "cell_type": "code",
      "metadata": {
        "id": "pwsEYhQP4PYd"
      },
      "source": [
        "# Constants\n",
        "\n",
        "T_H2_burner = 298 #K \n",
        "p_H2_burner_v2 = p_tank_v2\n",
        "T_O2 = 298 #K\n",
        "p_O2 = 15200*10^3 #pa (15200 kpa)\n",
        "T_H2O = 2933 #K (2660 degrees celsius)\n",
        "p_H2O = 101325 #Pa (1 atm)\n",
        "eta_burner = 0.3 #burner efficiency is 30%"
      ],
      "execution_count": null,
      "outputs": []
    },
    {
      "cell_type": "code",
      "metadata": {
        "id": "ZOcUZ29fB-HH",
        "colab": {
          "base_uri": "https://localhost:8080/"
        },
        "outputId": "56fc91c3-d90b-44f0-c1b6-b81030812140"
      },
      "source": [
        "# Calculations\n",
        "# Q_dot_pyrolysis is from pyrolysis calculations\n",
        "hbar_H2_burner_v2 = hbar_form_H2 + PropsSI('Hmolar','T',T_H2_burner,'P',p_H2_burner_v2,'hydrogen') - PropsSI('Hmolar','T',T_ref_v2,'P',p_ref_v2,'hydrogen') #kJ/kmol\n",
        "hbar_O2 = hbar_form_O2 + PropsSI('Hmolar','T',T_O2,'P',p_O2,'oxygen') - PropsSI('Hmolar','T',T_ref_v2,'P',p_ref_v2,'oxygen') #kJ/kmol\n",
        "hbar_H2O = hbar_form_H2O + PropsSI('Hmolar','T',T_H2O,'P',p_H2O,'water') - PropsSI('Hmolar','T',T_ref_v2,'Q',1,'water') #kJ/kmol\n",
        "Q_dot_burner = Q_dot_pyrolysis/eta_burner\n",
        "print(Q_dot_burner)\n",
        "n_dot_H2_burner_v2 = -Q_dot_burner/((hbar_H2O-hbar_H2_burner_v2-1/2*hbar_O2)) #kmol/s\n",
        "m_dot_H2_burner_v2 = n_dot_H2_burner_v2 * M_H2\n",
        "n_dot_H2O_v2 = n_dot_H2_burner_v2\n",
        "m_dot_H2O_v2 = n_dot_H2O_v2 * M_H2O\n",
        "n_dot_O2_v2 = 2*n_dot_H2_burner_v2\n",
        "m_dot_O2_v2 = n_dot_O2_v2 * M_O2\n",
        "print(n_dot_H2_burner_v2)"
      ],
      "execution_count": null,
      "outputs": [
        {
          "output_type": "stream",
          "text": [
            "506.90935785728624\n",
            "0.004236286833161547\n"
          ],
          "name": "stdout"
        }
      ]
    },
    {
      "cell_type": "markdown",
      "metadata": {
        "id": "IvUbVFwW7DjN"
      },
      "source": [
        "### Solar-Thermal Concentrating Heater"
      ]
    },
    {
      "cell_type": "markdown",
      "metadata": {
        "id": "-_9yXH2M7MOt"
      },
      "source": [
        "Actual Heat Transfer Rate Between Cell and Methane: \\\\\n",
        "$ \\dot Q_{cell} = \\dot Q_{pyrolysis} / \\eta_{heater} $\n",
        "\n",
        "Sizing of Solar Cell: \\\\\n",
        "$ A = \\frac{\\dot Q_{cell}}{G*\\eta_{cell}} $"
      ]
    },
    {
      "cell_type": "code",
      "metadata": {
        "id": "dSLXroBi7M3_"
      },
      "source": [
        "# Constants\n",
        "eta_heater = 0.15 # efficiency between solar cell heat transfer rate to methane reaction in reactor\n",
        "eta_cell = 0.18 # efficiency of solar cell capturing solar energy\n",
        "G = 4.80 # irradiance/time kW*h/m^2/day facing south with a 41 degree angle"
      ],
      "execution_count": null,
      "outputs": []
    },
    {
      "cell_type": "code",
      "metadata": {
        "id": "2ECPt_lmwERX",
        "colab": {
          "base_uri": "https://localhost:8080/"
        },
        "outputId": "f53da0e8-c10d-4295-b852-abaa49de4a33"
      },
      "source": [
        "# Calculations\n",
        "# Q_dot_pyrolysis is from pyrolysis calculations\n",
        "Q_dot_cell =  Q_dot_pyrolysis / eta_heater # actual heat transfer rate needed to be recieved from sunlight\n",
        "A = Q_dot_cell / (G*eta_cell) #m^2 per hr each day\n",
        "print(A)"
      ],
      "execution_count": null,
      "outputs": [
        {
          "output_type": "stream",
          "text": [
            "1173.4012913363108\n"
          ],
          "name": "stdout"
        }
      ]
    },
    {
      "cell_type": "markdown",
      "metadata": {
        "id": "BNBba43RfQXB"
      },
      "source": [
        "### Compressor"
      ]
    },
    {
      "cell_type": "markdown",
      "metadata": {
        "id": "Fg0pJuytfW5w"
      },
      "source": [
        "Energy Balance: \\\\\n",
        "$ \\dot W_{cv}= \\dot n_{H_2} [\\overline{h}_{H_2}(T_{reactor})-\\overline{h}_{H_2}(T_{tank})] $ \\\\"
      ]
    },
    {
      "cell_type": "code",
      "metadata": {
        "id": "l5SSWFuGfVgx",
        "colab": {
          "base_uri": "https://localhost:8080/"
        },
        "outputId": "3d401c07-e323-47ea-f004-30e4247f745e"
      },
      "source": [
        "hbar_H2_reactor = PropsSI('Hmolar','T',T_reactor,'P',p_reactor,'hydrogen')\n",
        "hbar_H2_tank_v2 = PropsSI('Hmolar','T',T_tank,'P',p_tank_v2,'hydrogen')\n",
        "W_dot_compressor = n_dot_H2_pyrolysis*(hbar_H2_reactor - hbar_H2_tank_v2) # kW\n",
        "print(W_dot_compressor) # kW\n"
      ],
      "execution_count": null,
      "outputs": [
        {
          "output_type": "stream",
          "text": [
            "34.58609381432065\n"
          ],
          "name": "stdout"
        }
      ]
    },
    {
      "cell_type": "markdown",
      "metadata": {
        "id": "CKgtjFOQfadH"
      },
      "source": [
        "### Hydrogen Tank Volume Calculations"
      ]
    },
    {
      "cell_type": "markdown",
      "metadata": {
        "id": "MkrDAhdEiOMV"
      },
      "source": [
        "Volume required for providing 200 kW every 3 hrs to **microgrid** \\\\\n",
        "\n",
        "Mole and Mass Conversion: \\\\\n",
        "$ n = m/M $\n",
        "\n",
        "Ideal Gas Equation: \\\\\n",
        "$ V = \\frac{ n\\overline{R}T}{p} $ \n",
        "\n",
        "Mass Flow of Hydrogen: \\\\\n",
        "$ \\dot m_{H_{2},grid} = \\frac{\\dot W_{req}}{LHV_{H_2}} $"
      ]
    },
    {
      "cell_type": "code",
      "metadata": {
        "id": "DIX4b4uxiLV1"
      },
      "source": [
        "# Constants\n",
        "\n",
        "t_3hrs = 10800 # s, 3 hours in seconds\n",
        "W_dot_req_v2_day = 1000 #kW (1 MW)"
      ],
      "execution_count": null,
      "outputs": []
    },
    {
      "cell_type": "code",
      "metadata": {
        "id": "bSOC8h9gj1Ck",
        "colab": {
          "base_uri": "https://localhost:8080/"
        },
        "outputId": "9b00682f-1111-40b1-9cde-234be80306e2"
      },
      "source": [
        "# Calculations\n",
        "W_req_day =  200*24*3600 # kJ (200 kW in 3 hrs in the entire day)\n",
        "m_H2_grid = W_req_day / LHV_H2 #kg\n",
        "n_H2_grid = m_H2_grid / M_H2 #kmol\n",
        "V_H2_v2_grid_v2 = (n_H2_grid * R_bar *T_tank)/p_tank_v2 #m^3\n",
        "print(V_H2_v2_grid_v2)"
      ],
      "execution_count": null,
      "outputs": [
        {
          "output_type": "stream",
          "text": [
            "3.372251363238084\n"
          ],
          "name": "stdout"
        }
      ]
    },
    {
      "cell_type": "markdown",
      "metadata": {
        "id": "GdLv0z9ClyVL"
      },
      "source": [
        "Volume required for providing hydrogen for the **hydrogen burner**"
      ]
    },
    {
      "cell_type": "code",
      "metadata": {
        "id": "72Vd7ADdGBYw"
      },
      "source": [
        "# Constants\n",
        "t_14hrs = 50400 # s, 14 hours in seconds"
      ],
      "execution_count": null,
      "outputs": []
    },
    {
      "cell_type": "code",
      "metadata": {
        "id": "lagSuG9zl_GH",
        "colab": {
          "base_uri": "https://localhost:8080/"
        },
        "outputId": "cd3f5af4-fb04-4af7-e204-76dc4b17a8f6"
      },
      "source": [
        "# Calculations\n",
        "# n_dot_burner is from hydrogen burner calculations!\n",
        "n_H2_burner_v2 = n_dot_H2_burner_v2 * t_14hrs #kmol\n",
        "V_H2_v2_burner_v2 = (n_H2_burner_v2 * R_bar *T_tank)/p_tank_v2 #m^3\n",
        "print(V_H2_v2_burner_v2)"
      ],
      "execution_count": null,
      "outputs": [
        {
          "output_type": "stream",
          "text": [
            "10.075877416137333\n"
          ],
          "name": "stdout"
        }
      ]
    },
    {
      "cell_type": "markdown",
      "metadata": {
        "id": "bFhsbV1MPl3a"
      },
      "source": [
        "Volume required for energy for **compressor** (from energy from hydrogen)"
      ]
    },
    {
      "cell_type": "code",
      "metadata": {
        "id": "RVVg1XrAR6Ki"
      },
      "source": [
        "# Constants\n",
        "t_24hrs = 86400 #s"
      ],
      "execution_count": null,
      "outputs": []
    },
    {
      "cell_type": "code",
      "metadata": {
        "id": "37VXIManPyIr",
        "colab": {
          "base_uri": "https://localhost:8080/"
        },
        "outputId": "c22ba58c-5ae8-467f-e2e7-ab5070a979f4"
      },
      "source": [
        "# Calculations\n",
        "W_compressor = W_dot_compressor*t_24hrs\n",
        "n_H2_compressor = W_compressor/LHV_H2\n",
        "V_compressor = (n_H2_compressor * R_bar *T_tank)/p_tank_v2\n",
        "print(V_compressor)"
      ],
      "execution_count": null,
      "outputs": [
        {
          "output_type": "stream",
          "text": [
            "1.1756606603053845\n"
          ],
          "name": "stdout"
        }
      ]
    },
    {
      "cell_type": "markdown",
      "metadata": {
        "id": "hm7wwWUfuW5r"
      },
      "source": [
        "**Total** Volume of Tank\n",
        "\n",
        "Total Volume: \\\\\n",
        "$ V_{H_2} = V_{H_2,grid} + V_{H_2,burner} + V_{H_2,compressor}$"
      ]
    },
    {
      "cell_type": "code",
      "metadata": {
        "id": "DfpPpf0Wuc26",
        "colab": {
          "base_uri": "https://localhost:8080/"
        },
        "outputId": "e7c0191f-e4f2-48fe-c048-4b0348b1206a"
      },
      "source": [
        "# Calculations\n",
        "V_H2_v2 = V_H2_v2_grid_v2 +V_H2_v2_burner_v2 + V_compressor\n",
        "print(V_H2_v2)"
      ],
      "execution_count": null,
      "outputs": [
        {
          "output_type": "stream",
          "text": [
            "14.6237894396808\n"
          ],
          "name": "stdout"
        }
      ]
    },
    {
      "cell_type": "markdown",
      "metadata": {
        "id": "mojqw2_6Mf8m"
      },
      "source": [
        "### Exergy Destruction\n"
      ]
    },
    {
      "cell_type": "markdown",
      "metadata": {
        "id": "YRmEYlk_MjrO"
      },
      "source": [
        "Total Exergy: \\\\\n",
        "$ \\dot E_d = \\dot E_{d1} + \\dot E_{d2} $   \n",
        "\n",
        "$ \\dot E_{d1}= T_0(\\sigma_{CV,pyrolysis}+\\sigma_{CV,burner}+\\sigma_{CV,compressor}) $\n",
        "\n",
        "Control Volume Entropy Production Balance of Pyrolysis: \\\\\n",
        "$ \\dot \\sigma_{CV,pyrolysis} = - \\frac{Q_{pyrolysis}}{T_{pyrolysis}}- \\dot m_{CH4}s_{CH4} + \\dot m_C s_C + \\dot m_{H_2}s_{H_2} $\n",
        "\n",
        "Control Volume Entropy Production Balance of Hydrogen Burner: \\\\\n",
        "$ \\dot \\sigma_{CV,burner} = - \\frac{Q_{burner}}{T_{burner}}- \\dot m_{H_2}s_{H_2} - \\dot m_{O_2} s_{O_2} + \\dot m_{H_2O}s_{H_2O} $\n",
        "\n",
        "Control Volume Entropy Production Balance of compressor: \\\\\n",
        "$ \\dot \\sigma_{CV,compressor} = - \\dot m_{H_2,reactor} (s_{H_2,reactor} - s_{H_2,tank}) $\n",
        "\n",
        "Control Volume Entropy Production Balance of Tank: \\\\\n",
        "$ \\dot E_{d2} = \\dot W_{req} $"
      ]
    },
    {
      "cell_type": "code",
      "metadata": {
        "id": "2iABeW7WWk0Z"
      },
      "source": [
        "# Constants\n",
        "T_0 = 298 # K\n",
        "t_10hrs = 3600 #s\n",
        "t_24hrs = 86400 #s\n",
        "p_ref_v2 = p_H2O"
      ],
      "execution_count": null,
      "outputs": []
    },
    {
      "cell_type": "code",
      "metadata": {
        "id": "EoaHzUz5b_dX",
        "colab": {
          "base_uri": "https://localhost:8080/"
        },
        "outputId": "2e89a333-fbee-4d56-9588-ce0655c8ae95"
      },
      "source": [
        "# Calculations\n",
        "\n",
        "## Solar Cell\n",
        "E_dot_cell = -Q_dot_cell #kW\n",
        "E_cell = E_dot_cell * t_10hrs #kJ\n",
        "\n",
        "## Pyrolysis\n",
        "s_CH4 = PropsSI('S','T',T_CH4,'P',p_CH4,'methane') * 10**(-3)\n",
        "s_C = cp_C * np.log(T_H2_pyrolysis/T_0) - (R_bar*10**(-3)/M_C) * np.log(p_H2_pyrolysis/p_ref_v2)\n",
        "s_H2_pyrolysis = PropsSI('S','T',T_H2_pyrolysis,'P',p_reactor,'hydrogen') * 10**(-3)\n",
        "sigma_dot_pyrolysis = -(Q_dot_pyrolysis / T_CH4) - m_dot_CH4 * s_CH4 + m_dot_C *s_C + m_dot_H2_pyrolysis *s_H2_pyrolysis\n",
        "E_dot_pyrolysis = sigma_dot_pyrolysis * T_0\n",
        "E_pyrolysis = E_dot_pyrolysis * t_10hrs\n",
        "\n",
        "## Burner\n",
        "s_H2_burner_v2 = PropsSI('S','T',T_H2O,'P',p_H2_burner_v2,'hydrogen') * 10**(-3)\n",
        "s_O2_v2 = PropsSI('S','T',T_H2O,'P',p_H2_burner_v2,'oxygen') * 10**(-3)\n",
        "s_H2O_v2 = PropsSI('S','T',T_H2O,'P',p_H2_burner_v2,'water') * 10**(-3)\n",
        "sigma_dot_burner_v2 = (Q_dot_pyrolysis / T_H2O) - m_dot_H2_burner_v2*s_H2_burner_v2 - m_dot_O2_v2 * s_O2_v2 + m_dot_H2O_v2*s_H2O_v2\n",
        "E_dot_burner_v2 = sigma_dot_burner_v2 * T_0\n",
        "E_burner_v2 = E_dot_burner_v2 * t_3hrs\n",
        "\n",
        "## compressor\n",
        "s_H2_tank = PropsSI('S','T',T_tank,'P',p_tank_v2,'hydrogen') * 10**(-3)\n",
        "sigma_dot_compressor = - m_dot_H2_pyrolysis * (s_H2_pyrolysis - s_H2_tank)\n",
        "E_dot_compressor = sigma_dot_compressor *T_0\n",
        "E_compressor = E_dot_compressor * t_24hrs\n",
        "\n",
        "## Tank\n",
        "E_dot_tank_v2 = W_dot_req_v2 \n",
        "E_tank_v2 = E_dot_tank_v2 * t_24hrs\n",
        "\n",
        "## Total Exergy Destruction \n",
        "E_d_v2 = E_cell + E_pyrolysis + E_burner_v2 + E_compressor + E_tank_v2 #kJ per day\n",
        "print(E_d_v2)\n"
      ],
      "execution_count": null,
      "outputs": [
        {
          "output_type": "stream",
          "text": [
            "8692322.682356179\n"
          ],
          "name": "stdout"
        }
      ]
    }
  ]
}